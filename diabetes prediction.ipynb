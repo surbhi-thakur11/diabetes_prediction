{
 "cells": [
  {
   "cell_type": "markdown",
   "metadata": {},
   "source": [
    "## Roll no.35    UId:209046\n"
   ]
  },
  {
   "cell_type": "markdown",
   "metadata": {},
   "source": [
    "# Diabetes Prediction\n",
    "\n",
    "### This is a classification problem of supervised machine learning. The objective is to predict whether or not a patient has diabetes, based on certain diagonistic measurement included in the dataset.\n",
    "0- Absence of Diabetes\n",
    "1-Presence of Diabetes"
   ]
  },
  {
   "cell_type": "code",
   "execution_count": 96,
   "metadata": {},
   "outputs": [],
   "source": [
    "#importing libraries\n",
    "\n",
    "import pandas as pd\n",
    "import matplotlib.pyplot as plt\n",
    "import seaborn as sns\n",
    "import numpy as np"
   ]
  },
  {
   "cell_type": "markdown",
   "metadata": {},
   "source": [
    "Predictor variables include the no. of pregnancies, their BMI, insulin level, age,glucose, blood pressure, skin thickness, diabetes pedigree function."
   ]
  },
  {
   "cell_type": "code",
   "execution_count": 97,
   "metadata": {},
   "outputs": [],
   "source": [
    "data=pd.read_csv('diabetes.csv')"
   ]
  },
  {
   "cell_type": "code",
   "execution_count": 98,
   "metadata": {},
   "outputs": [
    {
     "data": {
      "text/plain": [
       "(1314, 9)"
      ]
     },
     "execution_count": 98,
     "metadata": {},
     "output_type": "execute_result"
    }
   ],
   "source": [
    "data.shape\n"
   ]
  },
  {
   "cell_type": "code",
   "execution_count": 99,
   "metadata": {
    "scrolled": true
   },
   "outputs": [
    {
     "data": {
      "text/html": [
       "<div>\n",
       "<style scoped>\n",
       "    .dataframe tbody tr th:only-of-type {\n",
       "        vertical-align: middle;\n",
       "    }\n",
       "\n",
       "    .dataframe tbody tr th {\n",
       "        vertical-align: top;\n",
       "    }\n",
       "\n",
       "    .dataframe thead th {\n",
       "        text-align: right;\n",
       "    }\n",
       "</style>\n",
       "<table border=\"1\" class=\"dataframe\">\n",
       "  <thead>\n",
       "    <tr style=\"text-align: right;\">\n",
       "      <th></th>\n",
       "      <th>Pregnancies</th>\n",
       "      <th>Glucose</th>\n",
       "      <th>BloodPressure</th>\n",
       "      <th>SkinThickness</th>\n",
       "      <th>Insulin</th>\n",
       "      <th>BMI</th>\n",
       "      <th>DiabetesPedigreeFunction</th>\n",
       "      <th>Age</th>\n",
       "      <th>Outcome</th>\n",
       "    </tr>\n",
       "  </thead>\n",
       "  <tbody>\n",
       "    <tr>\n",
       "      <th>0</th>\n",
       "      <td>6</td>\n",
       "      <td>148</td>\n",
       "      <td>72</td>\n",
       "      <td>35</td>\n",
       "      <td>0</td>\n",
       "      <td>33.6</td>\n",
       "      <td>0.627</td>\n",
       "      <td>50</td>\n",
       "      <td>1</td>\n",
       "    </tr>\n",
       "    <tr>\n",
       "      <th>1</th>\n",
       "      <td>1</td>\n",
       "      <td>85</td>\n",
       "      <td>66</td>\n",
       "      <td>29</td>\n",
       "      <td>0</td>\n",
       "      <td>26.6</td>\n",
       "      <td>0.351</td>\n",
       "      <td>31</td>\n",
       "      <td>0</td>\n",
       "    </tr>\n",
       "    <tr>\n",
       "      <th>2</th>\n",
       "      <td>8</td>\n",
       "      <td>183</td>\n",
       "      <td>64</td>\n",
       "      <td>0</td>\n",
       "      <td>0</td>\n",
       "      <td>23.3</td>\n",
       "      <td>0.672</td>\n",
       "      <td>32</td>\n",
       "      <td>1</td>\n",
       "    </tr>\n",
       "    <tr>\n",
       "      <th>3</th>\n",
       "      <td>1</td>\n",
       "      <td>89</td>\n",
       "      <td>66</td>\n",
       "      <td>23</td>\n",
       "      <td>94</td>\n",
       "      <td>28.1</td>\n",
       "      <td>0.167</td>\n",
       "      <td>21</td>\n",
       "      <td>0</td>\n",
       "    </tr>\n",
       "    <tr>\n",
       "      <th>4</th>\n",
       "      <td>0</td>\n",
       "      <td>137</td>\n",
       "      <td>40</td>\n",
       "      <td>35</td>\n",
       "      <td>168</td>\n",
       "      <td>43.1</td>\n",
       "      <td>2.288</td>\n",
       "      <td>33</td>\n",
       "      <td>1</td>\n",
       "    </tr>\n",
       "  </tbody>\n",
       "</table>\n",
       "</div>"
      ],
      "text/plain": [
       "   Pregnancies  Glucose  BloodPressure  SkinThickness  Insulin   BMI  \\\n",
       "0            6      148             72             35        0  33.6   \n",
       "1            1       85             66             29        0  26.6   \n",
       "2            8      183             64              0        0  23.3   \n",
       "3            1       89             66             23       94  28.1   \n",
       "4            0      137             40             35      168  43.1   \n",
       "\n",
       "   DiabetesPedigreeFunction  Age  Outcome  \n",
       "0                     0.627   50        1  \n",
       "1                     0.351   31        0  \n",
       "2                     0.672   32        1  \n",
       "3                     0.167   21        0  \n",
       "4                     2.288   33        1  "
      ]
     },
     "execution_count": 99,
     "metadata": {},
     "output_type": "execute_result"
    }
   ],
   "source": [
    "data.head()"
   ]
  },
  {
   "cell_type": "code",
   "execution_count": 100,
   "metadata": {},
   "outputs": [
    {
     "data": {
      "text/html": [
       "<div>\n",
       "<style scoped>\n",
       "    .dataframe tbody tr th:only-of-type {\n",
       "        vertical-align: middle;\n",
       "    }\n",
       "\n",
       "    .dataframe tbody tr th {\n",
       "        vertical-align: top;\n",
       "    }\n",
       "\n",
       "    .dataframe thead th {\n",
       "        text-align: right;\n",
       "    }\n",
       "</style>\n",
       "<table border=\"1\" class=\"dataframe\">\n",
       "  <thead>\n",
       "    <tr style=\"text-align: right;\">\n",
       "      <th></th>\n",
       "      <th>Pregnancies</th>\n",
       "      <th>Glucose</th>\n",
       "      <th>BloodPressure</th>\n",
       "      <th>SkinThickness</th>\n",
       "      <th>Insulin</th>\n",
       "      <th>BMI</th>\n",
       "      <th>DiabetesPedigreeFunction</th>\n",
       "      <th>Age</th>\n",
       "      <th>Outcome</th>\n",
       "    </tr>\n",
       "  </thead>\n",
       "  <tbody>\n",
       "    <tr>\n",
       "      <th>1309</th>\n",
       "      <td>3</td>\n",
       "      <td>128</td>\n",
       "      <td>72</td>\n",
       "      <td>25</td>\n",
       "      <td>190</td>\n",
       "      <td>32.4</td>\n",
       "      <td>0.549</td>\n",
       "      <td>27</td>\n",
       "      <td>1</td>\n",
       "    </tr>\n",
       "    <tr>\n",
       "      <th>1310</th>\n",
       "      <td>10</td>\n",
       "      <td>90</td>\n",
       "      <td>85</td>\n",
       "      <td>32</td>\n",
       "      <td>0</td>\n",
       "      <td>34.9</td>\n",
       "      <td>0.825</td>\n",
       "      <td>56</td>\n",
       "      <td>1</td>\n",
       "    </tr>\n",
       "    <tr>\n",
       "      <th>1311</th>\n",
       "      <td>4</td>\n",
       "      <td>84</td>\n",
       "      <td>90</td>\n",
       "      <td>23</td>\n",
       "      <td>56</td>\n",
       "      <td>39.5</td>\n",
       "      <td>0.159</td>\n",
       "      <td>25</td>\n",
       "      <td>0</td>\n",
       "    </tr>\n",
       "    <tr>\n",
       "      <th>1312</th>\n",
       "      <td>1</td>\n",
       "      <td>88</td>\n",
       "      <td>78</td>\n",
       "      <td>29</td>\n",
       "      <td>76</td>\n",
       "      <td>32.0</td>\n",
       "      <td>0.365</td>\n",
       "      <td>29</td>\n",
       "      <td>0</td>\n",
       "    </tr>\n",
       "    <tr>\n",
       "      <th>1313</th>\n",
       "      <td>8</td>\n",
       "      <td>186</td>\n",
       "      <td>90</td>\n",
       "      <td>35</td>\n",
       "      <td>225</td>\n",
       "      <td>34.5</td>\n",
       "      <td>0.423</td>\n",
       "      <td>37</td>\n",
       "      <td>1</td>\n",
       "    </tr>\n",
       "  </tbody>\n",
       "</table>\n",
       "</div>"
      ],
      "text/plain": [
       "      Pregnancies  Glucose  BloodPressure  SkinThickness  Insulin   BMI  \\\n",
       "1309            3      128             72             25      190  32.4   \n",
       "1310           10       90             85             32        0  34.9   \n",
       "1311            4       84             90             23       56  39.5   \n",
       "1312            1       88             78             29       76  32.0   \n",
       "1313            8      186             90             35      225  34.5   \n",
       "\n",
       "      DiabetesPedigreeFunction  Age  Outcome  \n",
       "1309                     0.549   27        1  \n",
       "1310                     0.825   56        1  \n",
       "1311                     0.159   25        0  \n",
       "1312                     0.365   29        0  \n",
       "1313                     0.423   37        1  "
      ]
     },
     "execution_count": 100,
     "metadata": {},
     "output_type": "execute_result"
    }
   ],
   "source": [
    "data.tail()"
   ]
  },
  {
   "cell_type": "code",
   "execution_count": 101,
   "metadata": {},
   "outputs": [
    {
     "data": {
      "text/plain": [
       "Index(['Pregnancies', 'Glucose', 'BloodPressure', 'SkinThickness', 'Insulin',\n",
       "       'BMI', 'DiabetesPedigreeFunction', 'Age', 'Outcome'],\n",
       "      dtype='object')"
      ]
     },
     "execution_count": 101,
     "metadata": {},
     "output_type": "execute_result"
    }
   ],
   "source": [
    "data.columns"
   ]
  },
  {
   "cell_type": "markdown",
   "metadata": {},
   "source": [
    "## Data Exploration"
   ]
  },
  {
   "cell_type": "code",
   "execution_count": 102,
   "metadata": {},
   "outputs": [
    {
     "data": {
      "text/plain": [
       "<AxesSubplot:xlabel='Outcome', ylabel='count'>"
      ]
     },
     "execution_count": 102,
     "metadata": {},
     "output_type": "execute_result"
    },
    {
     "data": {
      "image/png": "[encoded data removed]",
      "text/plain": [
       "<Figure size 432x288 with 1 Axes>"
      ]
     },
     "metadata": {
      "needs_background": "light"
     },
     "output_type": "display_data"
    }
   ],
   "source": [
    "#plotting the distribution of outcome\n",
    "sns.countplot(x='Outcome',data=data)"
   ]
  },
  {
   "cell_type": "code",
   "execution_count": 103,
   "metadata": {},
   "outputs": [
    {
     "data": {
      "text/plain": [
       "Pregnancies                 0\n",
       "Glucose                     0\n",
       "BloodPressure               0\n",
       "SkinThickness               0\n",
       "Insulin                     0\n",
       "BMI                         0\n",
       "DiabetesPedigreeFunction    0\n",
       "Age                         0\n",
       "Outcome                     0\n",
       "dtype: int64"
      ]
     },
     "execution_count": 103,
     "metadata": {},
     "output_type": "execute_result"
    }
   ],
   "source": [
    "#check for null values\n",
    "data.isnull().sum()"
   ]
  },
  {
   "cell_type": "code",
   "execution_count": 104,
   "metadata": {},
   "outputs": [
    {
     "data": {
      "text/html": [
       "<div>\n",
       "<style scoped>\n",
       "    .dataframe tbody tr th:only-of-type {\n",
       "        vertical-align: middle;\n",
       "    }\n",
       "\n",
       "    .dataframe tbody tr th {\n",
       "        vertical-align: top;\n",
       "    }\n",
       "\n",
       "    .dataframe thead th {\n",
       "        text-align: right;\n",
       "    }\n",
       "</style>\n",
       "<table border=\"1\" class=\"dataframe\">\n",
       "  <thead>\n",
       "    <tr style=\"text-align: right;\">\n",
       "      <th></th>\n",
       "      <th>Pregnancies</th>\n",
       "      <th>Glucose</th>\n",
       "      <th>BloodPressure</th>\n",
       "      <th>SkinThickness</th>\n",
       "      <th>Insulin</th>\n",
       "      <th>BMI</th>\n",
       "      <th>DiabetesPedigreeFunction</th>\n",
       "      <th>Age</th>\n",
       "      <th>Outcome</th>\n",
       "    </tr>\n",
       "  </thead>\n",
       "  <tbody>\n",
       "    <tr>\n",
       "      <th>count</th>\n",
       "      <td>1314.000000</td>\n",
       "      <td>1314.000000</td>\n",
       "      <td>1314.000000</td>\n",
       "      <td>1314.000000</td>\n",
       "      <td>1314.000000</td>\n",
       "      <td>1314.000000</td>\n",
       "      <td>1314.000000</td>\n",
       "      <td>1314.000000</td>\n",
       "      <td>1314.000000</td>\n",
       "    </tr>\n",
       "    <tr>\n",
       "      <th>mean</th>\n",
       "      <td>3.838661</td>\n",
       "      <td>120.606545</td>\n",
       "      <td>68.926941</td>\n",
       "      <td>20.504566</td>\n",
       "      <td>79.830289</td>\n",
       "      <td>31.927930</td>\n",
       "      <td>0.477479</td>\n",
       "      <td>33.215373</td>\n",
       "      <td>0.351598</td>\n",
       "    </tr>\n",
       "    <tr>\n",
       "      <th>std</th>\n",
       "      <td>3.365045</td>\n",
       "      <td>32.228638</td>\n",
       "      <td>19.445297</td>\n",
       "      <td>15.843303</td>\n",
       "      <td>115.983549</td>\n",
       "      <td>7.998854</td>\n",
       "      <td>0.334886</td>\n",
       "      <td>11.749351</td>\n",
       "      <td>0.477651</td>\n",
       "    </tr>\n",
       "    <tr>\n",
       "      <th>min</th>\n",
       "      <td>0.000000</td>\n",
       "      <td>0.000000</td>\n",
       "      <td>0.000000</td>\n",
       "      <td>0.000000</td>\n",
       "      <td>0.000000</td>\n",
       "      <td>0.000000</td>\n",
       "      <td>0.078000</td>\n",
       "      <td>21.000000</td>\n",
       "      <td>0.000000</td>\n",
       "    </tr>\n",
       "    <tr>\n",
       "      <th>25%</th>\n",
       "      <td>1.000000</td>\n",
       "      <td>99.000000</td>\n",
       "      <td>64.000000</td>\n",
       "      <td>0.000000</td>\n",
       "      <td>0.000000</td>\n",
       "      <td>27.125000</td>\n",
       "      <td>0.246250</td>\n",
       "      <td>24.000000</td>\n",
       "      <td>0.000000</td>\n",
       "    </tr>\n",
       "    <tr>\n",
       "      <th>50%</th>\n",
       "      <td>3.000000</td>\n",
       "      <td>117.000000</td>\n",
       "      <td>72.000000</td>\n",
       "      <td>23.000000</td>\n",
       "      <td>36.000000</td>\n",
       "      <td>32.000000</td>\n",
       "      <td>0.380000</td>\n",
       "      <td>29.000000</td>\n",
       "      <td>0.000000</td>\n",
       "    </tr>\n",
       "    <tr>\n",
       "      <th>75%</th>\n",
       "      <td>6.000000</td>\n",
       "      <td>140.750000</td>\n",
       "      <td>80.000000</td>\n",
       "      <td>32.000000</td>\n",
       "      <td>126.000000</td>\n",
       "      <td>36.575000</td>\n",
       "      <td>0.637000</td>\n",
       "      <td>40.000000</td>\n",
       "      <td>1.000000</td>\n",
       "    </tr>\n",
       "    <tr>\n",
       "      <th>max</th>\n",
       "      <td>17.000000</td>\n",
       "      <td>199.000000</td>\n",
       "      <td>122.000000</td>\n",
       "      <td>99.000000</td>\n",
       "      <td>846.000000</td>\n",
       "      <td>67.100000</td>\n",
       "      <td>2.420000</td>\n",
       "      <td>81.000000</td>\n",
       "      <td>1.000000</td>\n",
       "    </tr>\n",
       "  </tbody>\n",
       "</table>\n",
       "</div>"
      ],
      "text/plain": [
       "       Pregnancies      Glucose  BloodPressure  SkinThickness      Insulin  \\\n",
       "count  1314.000000  1314.000000    1314.000000    1314.000000  1314.000000   \n",
       "mean      3.838661   120.606545      68.926941      20.504566    79.830289   \n",
       "std       3.365045    32.228638      19.445297      15.843303   115.983549   \n",
       "min       0.000000     0.000000       0.000000       0.000000     0.000000   \n",
       "25%       1.000000    99.000000      64.000000       0.000000     0.000000   \n",
       "50%       3.000000   117.000000      72.000000      23.000000    36.000000   \n",
       "75%       6.000000   140.750000      80.000000      32.000000   126.000000   \n",
       "max      17.000000   199.000000     122.000000      99.000000   846.000000   \n",
       "\n",
       "               BMI  DiabetesPedigreeFunction          Age      Outcome  \n",
       "count  1314.000000               1314.000000  1314.000000  1314.000000  \n",
       "mean     31.927930                  0.477479    33.215373     0.351598  \n",
       "std       7.998854                  0.334886    11.749351     0.477651  \n",
       "min       0.000000                  0.078000    21.000000     0.000000  \n",
       "25%      27.125000                  0.246250    24.000000     0.000000  \n",
       "50%      32.000000                  0.380000    29.000000     0.000000  \n",
       "75%      36.575000                  0.637000    40.000000     1.000000  \n",
       "max      67.100000                  2.420000    81.000000     1.000000  "
      ]
     },
     "execution_count": 104,
     "metadata": {},
     "output_type": "execute_result"
    }
   ],
   "source": [
    "data.describe()"
   ]
  },
  {
   "cell_type": "code",
   "execution_count": 105,
   "metadata": {},
   "outputs": [
    {
     "data": {
      "image/png": "[encoded data removed]",
      "text/plain": [
       "<Figure size 936x360 with 1 Axes>"
      ]
     },
     "metadata": {
      "needs_background": "light"
     },
     "output_type": "display_data"
    }
   ],
   "source": [
    "plt.figure(figsize=(13,5))\n",
    "sns.boxplot(data=data,orient='h')\n",
    "plt.show()"
   ]
  },
  {
   "cell_type": "code",
   "execution_count": 106,
   "metadata": {},
   "outputs": [
    {
     "data": {
      "image/png": "[encoded data removed]",
      "text/plain": [
       "<Figure size 432x288 with 1 Axes>"
      ]
     },
     "metadata": {
      "needs_background": "light"
     },
     "output_type": "display_data"
    }
   ],
   "source": [
    "sns.scatterplot(x=data['Insulin'],y=data['Outcome'])\n",
    "plt.show()"
   ]
  },
  {
   "cell_type": "code",
   "execution_count": 107,
   "metadata": {},
   "outputs": [
    {
     "data": {
      "text/html": [
       "<div>\n",
       "<style scoped>\n",
       "    .dataframe tbody tr th:only-of-type {\n",
       "        vertical-align: middle;\n",
       "    }\n",
       "\n",
       "    .dataframe tbody tr th {\n",
       "        vertical-align: top;\n",
       "    }\n",
       "\n",
       "    .dataframe thead th {\n",
       "        text-align: right;\n",
       "    }\n",
       "</style>\n",
       "<table border=\"1\" class=\"dataframe\">\n",
       "  <thead>\n",
       "    <tr style=\"text-align: right;\">\n",
       "      <th></th>\n",
       "      <th>Pregnancies</th>\n",
       "      <th>Glucose</th>\n",
       "      <th>BloodPressure</th>\n",
       "      <th>SkinThickness</th>\n",
       "      <th>Insulin</th>\n",
       "      <th>BMI</th>\n",
       "      <th>DiabetesPedigreeFunction</th>\n",
       "      <th>Age</th>\n",
       "      <th>Outcome</th>\n",
       "    </tr>\n",
       "  </thead>\n",
       "  <tbody>\n",
       "    <tr>\n",
       "      <th>Pregnancies</th>\n",
       "      <td>1.000000</td>\n",
       "      <td>0.141996</td>\n",
       "      <td>0.129692</td>\n",
       "      <td>-0.078086</td>\n",
       "      <td>-0.066453</td>\n",
       "      <td>0.027671</td>\n",
       "      <td>-0.039029</td>\n",
       "      <td>0.539308</td>\n",
       "      <td>0.225330</td>\n",
       "    </tr>\n",
       "    <tr>\n",
       "      <th>Glucose</th>\n",
       "      <td>0.141996</td>\n",
       "      <td>1.000000</td>\n",
       "      <td>0.137500</td>\n",
       "      <td>0.042453</td>\n",
       "      <td>0.338621</td>\n",
       "      <td>0.221234</td>\n",
       "      <td>0.139558</td>\n",
       "      <td>0.267841</td>\n",
       "      <td>0.453820</td>\n",
       "    </tr>\n",
       "    <tr>\n",
       "      <th>BloodPressure</th>\n",
       "      <td>0.129692</td>\n",
       "      <td>0.137500</td>\n",
       "      <td>1.000000</td>\n",
       "      <td>0.210136</td>\n",
       "      <td>0.093516</td>\n",
       "      <td>0.274710</td>\n",
       "      <td>0.026953</td>\n",
       "      <td>0.230747</td>\n",
       "      <td>0.057215</td>\n",
       "    </tr>\n",
       "    <tr>\n",
       "      <th>SkinThickness</th>\n",
       "      <td>-0.078086</td>\n",
       "      <td>0.042453</td>\n",
       "      <td>0.210136</td>\n",
       "      <td>1.000000</td>\n",
       "      <td>0.442766</td>\n",
       "      <td>0.392211</td>\n",
       "      <td>0.181539</td>\n",
       "      <td>-0.124592</td>\n",
       "      <td>0.075470</td>\n",
       "    </tr>\n",
       "    <tr>\n",
       "      <th>Insulin</th>\n",
       "      <td>-0.066453</td>\n",
       "      <td>0.338621</td>\n",
       "      <td>0.093516</td>\n",
       "      <td>0.442766</td>\n",
       "      <td>1.000000</td>\n",
       "      <td>0.198785</td>\n",
       "      <td>0.194590</td>\n",
       "      <td>-0.029231</td>\n",
       "      <td>0.134664</td>\n",
       "    </tr>\n",
       "    <tr>\n",
       "      <th>BMI</th>\n",
       "      <td>0.027671</td>\n",
       "      <td>0.221234</td>\n",
       "      <td>0.274710</td>\n",
       "      <td>0.392211</td>\n",
       "      <td>0.198785</td>\n",
       "      <td>1.000000</td>\n",
       "      <td>0.138723</td>\n",
       "      <td>0.038549</td>\n",
       "      <td>0.299031</td>\n",
       "    </tr>\n",
       "    <tr>\n",
       "      <th>DiabetesPedigreeFunction</th>\n",
       "      <td>-0.039029</td>\n",
       "      <td>0.139558</td>\n",
       "      <td>0.026953</td>\n",
       "      <td>0.181539</td>\n",
       "      <td>0.194590</td>\n",
       "      <td>0.138723</td>\n",
       "      <td>1.000000</td>\n",
       "      <td>0.038342</td>\n",
       "      <td>0.175802</td>\n",
       "    </tr>\n",
       "    <tr>\n",
       "      <th>Age</th>\n",
       "      <td>0.539308</td>\n",
       "      <td>0.267841</td>\n",
       "      <td>0.230747</td>\n",
       "      <td>-0.124592</td>\n",
       "      <td>-0.029231</td>\n",
       "      <td>0.038549</td>\n",
       "      <td>0.038342</td>\n",
       "      <td>1.000000</td>\n",
       "      <td>0.224667</td>\n",
       "    </tr>\n",
       "    <tr>\n",
       "      <th>Outcome</th>\n",
       "      <td>0.225330</td>\n",
       "      <td>0.453820</td>\n",
       "      <td>0.057215</td>\n",
       "      <td>0.075470</td>\n",
       "      <td>0.134664</td>\n",
       "      <td>0.299031</td>\n",
       "      <td>0.175802</td>\n",
       "      <td>0.224667</td>\n",
       "      <td>1.000000</td>\n",
       "    </tr>\n",
       "  </tbody>\n",
       "</table>\n",
       "</div>"
      ],
      "text/plain": [
       "                          Pregnancies   Glucose  BloodPressure  SkinThickness  \\\n",
       "Pregnancies                  1.000000  0.141996       0.129692      -0.078086   \n",
       "Glucose                      0.141996  1.000000       0.137500       0.042453   \n",
       "BloodPressure                0.129692  0.137500       1.000000       0.210136   \n",
       "SkinThickness               -0.078086  0.042453       0.210136       1.000000   \n",
       "Insulin                     -0.066453  0.338621       0.093516       0.442766   \n",
       "BMI                          0.027671  0.221234       0.274710       0.392211   \n",
       "DiabetesPedigreeFunction    -0.039029  0.139558       0.026953       0.181539   \n",
       "Age                          0.539308  0.267841       0.230747      -0.124592   \n",
       "Outcome                      0.225330  0.453820       0.057215       0.075470   \n",
       "\n",
       "                           Insulin       BMI  DiabetesPedigreeFunction  \\\n",
       "Pregnancies              -0.066453  0.027671                 -0.039029   \n",
       "Glucose                   0.338621  0.221234                  0.139558   \n",
       "BloodPressure             0.093516  0.274710                  0.026953   \n",
       "SkinThickness             0.442766  0.392211                  0.181539   \n",
       "Insulin                   1.000000  0.198785                  0.194590   \n",
       "BMI                       0.198785  1.000000                  0.138723   \n",
       "DiabetesPedigreeFunction  0.194590  0.138723                  1.000000   \n",
       "Age                      -0.029231  0.038549                  0.038342   \n",
       "Outcome                   0.134664  0.299031                  0.175802   \n",
       "\n",
       "                               Age   Outcome  \n",
       "Pregnancies               0.539308  0.225330  \n",
       "Glucose                   0.267841  0.453820  \n",
       "BloodPressure             0.230747  0.057215  \n",
       "SkinThickness            -0.124592  0.075470  \n",
       "Insulin                  -0.029231  0.134664  \n",
       "BMI                       0.038549  0.299031  \n",
       "DiabetesPedigreeFunction  0.038342  0.175802  \n",
       "Age                       1.000000  0.224667  \n",
       "Outcome                   0.224667  1.000000  "
      ]
     },
     "execution_count": 107,
     "metadata": {},
     "output_type": "execute_result"
    }
   ],
   "source": [
    "#check correlation\n",
    "data.corr()"
   ]
  },
  {
   "cell_type": "code",
   "execution_count": 108,
   "metadata": {},
   "outputs": [
    {
     "data": {
      "image/png": "[encoded data removed]",
      "text/plain": [
       "<Figure size 1080x720 with 2 Axes>"
      ]
     },
     "metadata": {
      "needs_background": "light"
     },
     "output_type": "display_data"
    }
   ],
   "source": [
    "##check correlation\n",
    "import seaborn as sns\n",
    "correlation=data.corr()\n",
    "plt.figure(figsize=(15,10))\n",
    "colormap=plt.cm.Blues\n",
    "g=sns.heatmap(data.corr(),annot=True,cmap=colormap)"
   ]
  },
  {
   "cell_type": "markdown",
   "metadata": {},
   "source": [
    "From the correlation matrix we can see that there are no highly related correlated features."
   ]
  },
  {
   "cell_type": "code",
   "execution_count": 109,
   "metadata": {},
   "outputs": [
    {
     "data": {
      "text/html": [
       "<div>\n",
       "<style scoped>\n",
       "    .dataframe tbody tr th:only-of-type {\n",
       "        vertical-align: middle;\n",
       "    }\n",
       "\n",
       "    .dataframe tbody tr th {\n",
       "        vertical-align: top;\n",
       "    }\n",
       "\n",
       "    .dataframe thead th {\n",
       "        text-align: right;\n",
       "    }\n",
       "</style>\n",
       "<table border=\"1\" class=\"dataframe\">\n",
       "  <thead>\n",
       "    <tr style=\"text-align: right;\">\n",
       "      <th></th>\n",
       "      <th>Pregnancies</th>\n",
       "      <th>Glucose</th>\n",
       "      <th>BloodPressure</th>\n",
       "      <th>SkinThickness</th>\n",
       "      <th>Insulin</th>\n",
       "      <th>BMI</th>\n",
       "      <th>DiabetesPedigreeFunction</th>\n",
       "      <th>Age</th>\n",
       "      <th>Outcome</th>\n",
       "    </tr>\n",
       "  </thead>\n",
       "  <tbody>\n",
       "    <tr>\n",
       "      <th>Pregnancies</th>\n",
       "      <td>1.000000</td>\n",
       "      <td>0.141996</td>\n",
       "      <td>0.129692</td>\n",
       "      <td>-0.078086</td>\n",
       "      <td>-0.066453</td>\n",
       "      <td>0.027671</td>\n",
       "      <td>-0.039029</td>\n",
       "      <td>0.539308</td>\n",
       "      <td>0.225330</td>\n",
       "    </tr>\n",
       "    <tr>\n",
       "      <th>Glucose</th>\n",
       "      <td>0.141996</td>\n",
       "      <td>1.000000</td>\n",
       "      <td>0.137500</td>\n",
       "      <td>0.042453</td>\n",
       "      <td>0.338621</td>\n",
       "      <td>0.221234</td>\n",
       "      <td>0.139558</td>\n",
       "      <td>0.267841</td>\n",
       "      <td>0.453820</td>\n",
       "    </tr>\n",
       "    <tr>\n",
       "      <th>BloodPressure</th>\n",
       "      <td>0.129692</td>\n",
       "      <td>0.137500</td>\n",
       "      <td>1.000000</td>\n",
       "      <td>0.210136</td>\n",
       "      <td>0.093516</td>\n",
       "      <td>0.274710</td>\n",
       "      <td>0.026953</td>\n",
       "      <td>0.230747</td>\n",
       "      <td>0.057215</td>\n",
       "    </tr>\n",
       "    <tr>\n",
       "      <th>SkinThickness</th>\n",
       "      <td>-0.078086</td>\n",
       "      <td>0.042453</td>\n",
       "      <td>0.210136</td>\n",
       "      <td>1.000000</td>\n",
       "      <td>0.442766</td>\n",
       "      <td>0.392211</td>\n",
       "      <td>0.181539</td>\n",
       "      <td>-0.124592</td>\n",
       "      <td>0.075470</td>\n",
       "    </tr>\n",
       "    <tr>\n",
       "      <th>Insulin</th>\n",
       "      <td>-0.066453</td>\n",
       "      <td>0.338621</td>\n",
       "      <td>0.093516</td>\n",
       "      <td>0.442766</td>\n",
       "      <td>1.000000</td>\n",
       "      <td>0.198785</td>\n",
       "      <td>0.194590</td>\n",
       "      <td>-0.029231</td>\n",
       "      <td>0.134664</td>\n",
       "    </tr>\n",
       "    <tr>\n",
       "      <th>BMI</th>\n",
       "      <td>0.027671</td>\n",
       "      <td>0.221234</td>\n",
       "      <td>0.274710</td>\n",
       "      <td>0.392211</td>\n",
       "      <td>0.198785</td>\n",
       "      <td>1.000000</td>\n",
       "      <td>0.138723</td>\n",
       "      <td>0.038549</td>\n",
       "      <td>0.299031</td>\n",
       "    </tr>\n",
       "    <tr>\n",
       "      <th>DiabetesPedigreeFunction</th>\n",
       "      <td>-0.039029</td>\n",
       "      <td>0.139558</td>\n",
       "      <td>0.026953</td>\n",
       "      <td>0.181539</td>\n",
       "      <td>0.194590</td>\n",
       "      <td>0.138723</td>\n",
       "      <td>1.000000</td>\n",
       "      <td>0.038342</td>\n",
       "      <td>0.175802</td>\n",
       "    </tr>\n",
       "    <tr>\n",
       "      <th>Age</th>\n",
       "      <td>0.539308</td>\n",
       "      <td>0.267841</td>\n",
       "      <td>0.230747</td>\n",
       "      <td>-0.124592</td>\n",
       "      <td>-0.029231</td>\n",
       "      <td>0.038549</td>\n",
       "      <td>0.038342</td>\n",
       "      <td>1.000000</td>\n",
       "      <td>0.224667</td>\n",
       "    </tr>\n",
       "    <tr>\n",
       "      <th>Outcome</th>\n",
       "      <td>0.225330</td>\n",
       "      <td>0.453820</td>\n",
       "      <td>0.057215</td>\n",
       "      <td>0.075470</td>\n",
       "      <td>0.134664</td>\n",
       "      <td>0.299031</td>\n",
       "      <td>0.175802</td>\n",
       "      <td>0.224667</td>\n",
       "      <td>1.000000</td>\n",
       "    </tr>\n",
       "  </tbody>\n",
       "</table>\n",
       "</div>"
      ],
      "text/plain": [
       "                          Pregnancies   Glucose  BloodPressure  SkinThickness  \\\n",
       "Pregnancies                  1.000000  0.141996       0.129692      -0.078086   \n",
       "Glucose                      0.141996  1.000000       0.137500       0.042453   \n",
       "BloodPressure                0.129692  0.137500       1.000000       0.210136   \n",
       "SkinThickness               -0.078086  0.042453       0.210136       1.000000   \n",
       "Insulin                     -0.066453  0.338621       0.093516       0.442766   \n",
       "BMI                          0.027671  0.221234       0.274710       0.392211   \n",
       "DiabetesPedigreeFunction    -0.039029  0.139558       0.026953       0.181539   \n",
       "Age                          0.539308  0.267841       0.230747      -0.124592   \n",
       "Outcome                      0.225330  0.453820       0.057215       0.075470   \n",
       "\n",
       "                           Insulin       BMI  DiabetesPedigreeFunction  \\\n",
       "Pregnancies              -0.066453  0.027671                 -0.039029   \n",
       "Glucose                   0.338621  0.221234                  0.139558   \n",
       "BloodPressure             0.093516  0.274710                  0.026953   \n",
       "SkinThickness             0.442766  0.392211                  0.181539   \n",
       "Insulin                   1.000000  0.198785                  0.194590   \n",
       "BMI                       0.198785  1.000000                  0.138723   \n",
       "DiabetesPedigreeFunction  0.194590  0.138723                  1.000000   \n",
       "Age                      -0.029231  0.038549                  0.038342   \n",
       "Outcome                   0.134664  0.299031                  0.175802   \n",
       "\n",
       "                               Age   Outcome  \n",
       "Pregnancies               0.539308  0.225330  \n",
       "Glucose                   0.267841  0.453820  \n",
       "BloodPressure             0.230747  0.057215  \n",
       "SkinThickness            -0.124592  0.075470  \n",
       "Insulin                  -0.029231  0.134664  \n",
       "BMI                       0.038549  0.299031  \n",
       "DiabetesPedigreeFunction  0.038342  0.175802  \n",
       "Age                       1.000000  0.224667  \n",
       "Outcome                   0.224667  1.000000  "
      ]
     },
     "execution_count": 109,
     "metadata": {},
     "output_type": "execute_result"
    }
   ],
   "source": [
    "data.corr()"
   ]
  },
  {
   "cell_type": "code",
   "execution_count": 110,
   "metadata": {},
   "outputs": [],
   "source": [
    "diabetes_true_count=len(data.loc[data['Outcome']==1])\n",
    "diabetes_false_count=len(data.loc[data['Outcome']==0])"
   ]
  },
  {
   "cell_type": "code",
   "execution_count": 111,
   "metadata": {},
   "outputs": [
    {
     "data": {
      "text/plain": [
       "(462, 852)"
      ]
     },
     "execution_count": 111,
     "metadata": {},
     "output_type": "execute_result"
    }
   ],
   "source": [
    "(diabetes_true_count,diabetes_false_count)"
   ]
  },
  {
   "cell_type": "code",
   "execution_count": 112,
   "metadata": {},
   "outputs": [
    {
     "data": {
      "text/html": [
       "<div>\n",
       "<style scoped>\n",
       "    .dataframe tbody tr th:only-of-type {\n",
       "        vertical-align: middle;\n",
       "    }\n",
       "\n",
       "    .dataframe tbody tr th {\n",
       "        vertical-align: top;\n",
       "    }\n",
       "\n",
       "    .dataframe thead th {\n",
       "        text-align: right;\n",
       "    }\n",
       "</style>\n",
       "<table border=\"1\" class=\"dataframe\">\n",
       "  <thead>\n",
       "    <tr style=\"text-align: right;\">\n",
       "      <th></th>\n",
       "      <th>Pregnancies</th>\n",
       "      <th>Glucose</th>\n",
       "      <th>BloodPressure</th>\n",
       "      <th>SkinThickness</th>\n",
       "      <th>Insulin</th>\n",
       "      <th>BMI</th>\n",
       "      <th>DiabetesPedigreeFunction</th>\n",
       "      <th>Age</th>\n",
       "    </tr>\n",
       "    <tr>\n",
       "      <th>Outcome</th>\n",
       "      <th></th>\n",
       "      <th></th>\n",
       "      <th></th>\n",
       "      <th></th>\n",
       "      <th></th>\n",
       "      <th></th>\n",
       "      <th></th>\n",
       "      <th></th>\n",
       "    </tr>\n",
       "  </thead>\n",
       "  <tbody>\n",
       "    <tr>\n",
       "      <th>0</th>\n",
       "      <td>3.280516</td>\n",
       "      <td>109.840376</td>\n",
       "      <td>68.107981</td>\n",
       "      <td>19.624413</td>\n",
       "      <td>68.333333</td>\n",
       "      <td>30.167254</td>\n",
       "      <td>0.434142</td>\n",
       "      <td>31.272300</td>\n",
       "    </tr>\n",
       "    <tr>\n",
       "      <th>1</th>\n",
       "      <td>4.867965</td>\n",
       "      <td>140.461039</td>\n",
       "      <td>70.437229</td>\n",
       "      <td>22.127706</td>\n",
       "      <td>101.032468</td>\n",
       "      <td>35.174892</td>\n",
       "      <td>0.557398</td>\n",
       "      <td>36.798701</td>\n",
       "    </tr>\n",
       "  </tbody>\n",
       "</table>\n",
       "</div>"
      ],
      "text/plain": [
       "         Pregnancies     Glucose  BloodPressure  SkinThickness     Insulin  \\\n",
       "Outcome                                                                      \n",
       "0           3.280516  109.840376      68.107981      19.624413   68.333333   \n",
       "1           4.867965  140.461039      70.437229      22.127706  101.032468   \n",
       "\n",
       "               BMI  DiabetesPedigreeFunction        Age  \n",
       "Outcome                                                  \n",
       "0        30.167254                  0.434142  31.272300  \n",
       "1        35.174892                  0.557398  36.798701  "
      ]
     },
     "execution_count": 112,
     "metadata": {},
     "output_type": "execute_result"
    }
   ],
   "source": [
    "data.groupby('Outcome').mean()"
   ]
  },
  {
   "cell_type": "markdown",
   "metadata": {},
   "source": [
    "## Training the Data"
   ]
  },
  {
   "cell_type": "code",
   "execution_count": 113,
   "metadata": {},
   "outputs": [],
   "source": [
    "#train test split\n",
    "\n",
    "from sklearn.model_selection import train_test_split\n",
    "feature_column=['Pregnancies','Glucose','BloodPressure','SkinThickness','Insulin','BMI','DiabetesPedigreeFunction','Age']\n",
    "target_column=['Outcome']"
   ]
  },
  {
   "cell_type": "code",
   "execution_count": 144,
   "metadata": {},
   "outputs": [],
   "source": [
    "X=data[feature_column].values\n",
    "y=data[target_column].values\n",
    "\n",
    "X_train,X_test,y_train,y_test=train_test_split(X,y,test_size=0.3,random_state=10)"
   ]
  },
  {
   "cell_type": "markdown",
   "metadata": {},
   "source": [
    "Before we build the model, we will impute the zero vlaues in our dataset. If we check the head of the dataset, we will notice that there are some independent variables with zero values. This can make our model not efficient."
   ]
  },
  {
   "cell_type": "code",
   "execution_count": 145,
   "metadata": {},
   "outputs": [
    {
     "name": "stdout",
     "output_type": "stream",
     "text": [
      "total no. of rows : 1314\n",
      "no. of rows missing glucose : 10\n",
      "no. of rows missing bloodpressure : 62\n",
      "no. of rows missing insulin : 637\n",
      "no. of rows missing bmi : 20\n",
      "no. of rows missing skinthickness : 386\n",
      "no. of rows missing diabetespedigreefunction : 0\n"
     ]
    }
   ],
   "source": [
    "#checking how many zeros and missing values\n",
    "\n",
    "print('total no. of rows : {0}'.format(len(data)))\n",
    "\n",
    "print('no. of rows missing glucose : {0}'.format(len(data.loc[data['Glucose']==0])))\n",
    "print('no. of rows missing bloodpressure : {0}'.format(len(data.loc[data['BloodPressure']==0])))\n",
    "print('no. of rows missing insulin : {0}'.format(len(data.loc[data['Insulin']==0])))\n",
    "print('no. of rows missing bmi : {0}'.format(len(data.loc[data['BMI']==0])))\n",
    "print('no. of rows missing skinthickness : {0}'.format(len(data.loc[data['SkinThickness']==0])))\n",
    "print('no. of rows missing diabetespedigreefunction : {0}'.format(len(data.loc[data['DiabetesPedigreeFunction']==0])))\n"
   ]
  },
  {
   "cell_type": "code",
   "execution_count": 146,
   "metadata": {},
   "outputs": [],
   "source": [
    "#imputing zeros values in the dataset\n",
    "from sklearn.impute import SimpleImputer\n",
    "fill_values = SimpleImputer(missing_values=0,strategy=\"mean\")\n",
    "\n",
    "X_train = fill_values.fit_transform(X_train)\n",
    "X_test = fill_values.fit_transform(X_test)"
   ]
  },
  {
   "cell_type": "code",
   "execution_count": 147,
   "metadata": {},
   "outputs": [
    {
     "name": "stdout",
     "output_type": "stream",
     "text": [
      "[[ 0.64253584  0.85029607  0.1580963  ...  0.20911829  0.44665444\n",
      "   1.42910166]\n",
      " [-0.84389391 -1.10523135 -0.15057909 ... -0.66634027 -0.37782086\n",
      "  -0.18862457]\n",
      " [ 1.23710775  1.9367002  -0.25347088 ... -1.07905645  0.58107976\n",
      "  -0.10348109]\n",
      " ...\n",
      " [ 0.04796394 -1.13627147  1.08412245 ...  0.94700479 -0.95136889\n",
      "  -0.69948549]\n",
      " [-0.84389391 -1.012111    0.46677168 ...  0.00901347 -0.33599965\n",
      "  -0.35891154]\n",
      " [ 1.23710775  2.02982055  1.08412245 ...  0.32167724 -0.16274034\n",
      "   0.32223634]]\n"
     ]
    }
   ],
   "source": [
    "#Apply Feature Scaling\n",
    "#Data Standardization\n",
    "from sklearn.preprocessing import StandardScaler\n",
    "scaler=StandardScaler()\n",
    "\n",
    "X=scaler.fit_transform(X)\n",
    "print(X)\n"
   ]
  },
  {
   "cell_type": "markdown",
   "metadata": {},
   "source": [
    "## Classification Model\n",
    "\n",
    "#### 1. Random Forest Classifier\n",
    "#### 2. Decision Tree"
   ]
  },
  {
   "cell_type": "markdown",
   "metadata": {},
   "source": [
    "###### To evaluate each model the metrics I will use are the following: Accuracy, Precision, Recall and Confusion matrix\n",
    "\n",
    "Accuracy is usually a good metric when dealing with balanced datasets.\n",
    "Predicting an healthy patient as affected by diabetes would result in furthur useless costs, but predicting a deseased one as healthy could result in serious consequences.So, here more importance will be given at detecting as many deseased patients as possible ( higher recall value) at the lower classification accuracy( lower precision score).\n",
    "\n"
   ]
  },
  {
   "cell_type": "markdown",
   "metadata": {},
   "source": [
    "## random forest classifier\n",
    "\n",
    "The Random Forest is an ensemble method specifically designed for Decision Tree classifiers. As an ensemble method, it generates several different weak learners and then it combines them in order to achieve an higher accuracy.\n",
    "\n",
    "\n",
    "\n"
   ]
  },
  {
   "cell_type": "code",
   "execution_count": 148,
   "metadata": {},
   "outputs": [
    {
     "data": {
      "text/plain": [
       "RandomForestClassifier(random_state=10)"
      ]
     },
     "execution_count": 148,
     "metadata": {},
     "output_type": "execute_result"
    }
   ],
   "source": [
    "from sklearn.ensemble import RandomForestClassifier\n",
    "random_forest_model=RandomForestClassifier(criterion='gini',random_state=10)\n",
    "\n",
    "random_forest_model.fit(X_train,y_train.ravel())"
   ]
  },
  {
   "cell_type": "code",
   "execution_count": 149,
   "metadata": {},
   "outputs": [
    {
     "name": "stdout",
     "output_type": "stream",
     "text": [
      "Accuracy = 0.881\n"
     ]
    }
   ],
   "source": [
    "predict_train_data=random_forest_model.predict(X_test)\n",
    "from sklearn import metrics\n",
    "\n",
    "print(\"Accuracy = {0:.3f}\".format(metrics.accuracy_score(y_test,predict_train_data)))"
   ]
  },
  {
   "cell_type": "code",
   "execution_count": 150,
   "metadata": {},
   "outputs": [
    {
     "name": "stdout",
     "output_type": "stream",
     "text": [
      "0.8059701492537313\n",
      "0.8372093023255814\n",
      "0.8810126582278481\n"
     ]
    }
   ],
   "source": [
    "from sklearn.metrics import precision_score,recall_score,accuracy_score\n",
    "print(recall_score(y_test, predict_train_data))\n",
    "print(precision_score(y_test, predict_train_data))\n",
    "print(accuracy_score(y_test, predict_train_data))\n",
    "\n"
   ]
  },
  {
   "cell_type": "code",
   "execution_count": 151,
   "metadata": {},
   "outputs": [
    {
     "name": "stdout",
     "output_type": "stream",
     "text": [
      "[[240  21]\n",
      " [ 26 108]]\n"
     ]
    }
   ],
   "source": [
    "from sklearn.metrics import  confusion_matrix\n",
    "print(confusion_matrix(y_test,predict_train_data))\n"
   ]
  },
  {
   "cell_type": "code",
   "execution_count": 152,
   "metadata": {},
   "outputs": [
    {
     "data": {
      "text/plain": [
       "<AxesSubplot:>"
      ]
     },
     "execution_count": 152,
     "metadata": {},
     "output_type": "execute_result"
    },
    {
     "data": {
      "image/png": "[encoded data removed]",
      "text/plain": [
       "<Figure size 432x288 with 2 Axes>"
      ]
     },
     "metadata": {
      "needs_background": "light"
     },
     "output_type": "display_data"
    }
   ],
   "source": [
    "sns.heatmap(confusion_matrix(y_test,predict_train_data),annot=True,fmt='d')"
   ]
  },
  {
   "cell_type": "markdown",
   "metadata": {},
   "source": [
    "## Decision Tree\n",
    "It is represented by a tree of finite depth.Every node of the tree specifies a test specifies a test involving an attribute and every branch descending from that node matches one of the possible outcomes of the rest.Decision Trees are induced from a training set using a top-down approach, from the root to the leafs, by recursively binary spliting the predictor space. The attribute selected to perform each split is the one that partitions the training set into subsets as pure as possible.\n"
   ]
  },
  {
   "cell_type": "code",
   "execution_count": 153,
   "metadata": {},
   "outputs": [
    {
     "data": {
      "text/plain": [
       "DecisionTreeClassifier()"
      ]
     },
     "execution_count": 153,
     "metadata": {},
     "output_type": "execute_result"
    }
   ],
   "source": [
    "from sklearn.tree import DecisionTreeClassifier\n",
    "dtree=DecisionTreeClassifier()\n",
    "dtree.fit(X_train,y_train)\n"
   ]
  },
  {
   "cell_type": "code",
   "execution_count": 154,
   "metadata": {},
   "outputs": [],
   "source": [
    "prediction=dtree.predict(X_test)"
   ]
  },
  {
   "cell_type": "code",
   "execution_count": 155,
   "metadata": {},
   "outputs": [
    {
     "name": "stdout",
     "output_type": "stream",
     "text": [
      "accuracy score 0.8379746835443038\n"
     ]
    }
   ],
   "source": [
    "from sklearn import metrics\n",
    "print(\"accuracy score\",format(metrics.accuracy_score(y_test,prediction)))"
   ]
  },
  {
   "cell_type": "code",
   "execution_count": 156,
   "metadata": {},
   "outputs": [
    {
     "name": "stdout",
     "output_type": "stream",
     "text": [
      "0.7835820895522388\n",
      "0.75\n"
     ]
    }
   ],
   "source": [
    "from sklearn.metrics import precision_score,recall_score\n",
    "print(recall_score(y_test, prediction))\n",
    "print(precision_score(y_test, prediction))\n"
   ]
  },
  {
   "cell_type": "code",
   "execution_count": 157,
   "metadata": {},
   "outputs": [
    {
     "name": "stdout",
     "output_type": "stream",
     "text": [
      "[[226  35]\n",
      " [ 29 105]]\n"
     ]
    }
   ],
   "source": [
    "from sklearn.metrics import confusion_matrix\n",
    "print(confusion_matrix(y_test,prediction))\n"
   ]
  },
  {
   "cell_type": "code",
   "execution_count": 158,
   "metadata": {},
   "outputs": [
    {
     "data": {
      "text/plain": [
       "<AxesSubplot:>"
      ]
     },
     "execution_count": 158,
     "metadata": {},
     "output_type": "execute_result"
    },
    {
     "data": {
      "image/png": "[encoded data removed]",
      "text/plain": [
       "<Figure size 432x288 with 2 Axes>"
      ]
     },
     "metadata": {
      "needs_background": "light"
     },
     "output_type": "display_data"
    }
   ],
   "source": [
    "sns.heatmap(confusion_matrix(y_test,prediction),annot=True,fmt='d')"
   ]
  },
  {
   "cell_type": "markdown",
   "metadata": {},
   "source": [
    "## Conclusion"
   ]
  },
  {
   "cell_type": "markdown",
   "metadata": {},
   "source": [
    "The decision tree is clearly not the ideal model as it scored both a low recall and a low precision. The Random forest is the one that provided the most balanced results between precision and recall and also a high overall accuracy score."
   ]
  },
  {
   "cell_type": "code",
   "execution_count": null,
   "metadata": {},
   "outputs": [],
   "source": []
  }
 ],
 "metadata": {
  "kernelspec": {
   "display_name": "Python 3",
   "language": "python",
   "name": "python3"
  },
  "language_info": {
   "codemirror_mode": {
    "name": "ipython",
    "version": 3
   },
   "file_extension": ".py",
   "mimetype": "text/x-python",
   "name": "python",
   "nbconvert_exporter": "python",
   "pygments_lexer": "ipython3",
   "version": "3.8.5"
  }
 },
 "nbformat": 4,
 "nbformat_minor": 4
}
